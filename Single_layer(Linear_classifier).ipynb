{
  "nbformat": 4,
  "nbformat_minor": 0,
  "metadata": {
    "colab": {
      "provenance": [],
      "collapsed_sections": [],
      "authorship_tag": "ABX9TyO5mWph5XlatsHx3lVLb/hA",
      "include_colab_link": true
    },
    "kernelspec": {
      "name": "python3",
      "display_name": "Python 3"
    },
    "language_info": {
      "name": "python"
    }
  },
  "cells": [
    {
      "cell_type": "markdown",
      "metadata": {
        "id": "view-in-github",
        "colab_type": "text"
      },
      "source": [
        "<a href=\"https://colab.research.google.com/github/Elman295/CIFAR10/blob/main/Single_layer(Linear_classifier).ipynb\" target=\"_parent\"><img src=\"https://colab.research.google.com/assets/colab-badge.svg\" alt=\"Open In Colab\"/></a>"
      ]
    },
    {
      "cell_type": "markdown",
      "source": [
        "***CIFAR10***\n",
        "\n",
        "The dataset is divided into five training batches and one test batch, each with 10000 images. The test batch contains exactly 1000 randomly-selected images from each class. The training batches contain the remaining images in random order, but some training batches may contain more images from one class than another. Between them, the training batches contain exactly 5000 images from each class.\n",
        "\n",
        "Source : https://www.cs.toronto.edu/~kriz/cifar.html\n",
        "\n"
      ],
      "metadata": {
        "id": "BHFK2LrhZaWr"
      }
    },
    {
      "cell_type": "code",
      "execution_count": null,
      "metadata": {
        "id": "oHH56daC93od"
      },
      "outputs": [],
      "source": [
        "%matplotlib inline\n",
        "import tensorflow as tf\n",
        "import numpy as np\n",
        "import matplotlib.pyplot as plt\n",
        "from tensorflow.python import metrics"
      ]
    },
    {
      "cell_type": "markdown",
      "source": [
        "Load Data"
      ],
      "metadata": {
        "id": "6cUU3rQca9mE"
      }
    },
    {
      "cell_type": "code",
      "source": [
        "data = tf.keras.datasets.cifar10\n",
        "\n",
        "(x_train, y_train), (x_test, y_test) = data.load_data()\n",
        "\n",
        "x_train, x_test = x_train/255.0, x_test/255.0 # convert [0,255] t0 [0,1]\n",
        "\n",
        "print(f\"shape of x_train = {x_train.shape}\")\n",
        "print(f\"shape of x_test = {x_test.shape}\")\n",
        "print(f\"shape of y_train = {y_train.shape}\")\n",
        "print(f\"shape of y_test = {y_test.shape}\")"
      ],
      "metadata": {
        "colab": {
          "base_uri": "https://localhost:8080/"
        },
        "id": "LZfePCmIaLIU",
        "outputId": "efc7a67e-4ca1-4a0d-b28d-4c0a9a2f14f1"
      },
      "execution_count": null,
      "outputs": [
        {
          "output_type": "stream",
          "name": "stdout",
          "text": [
            "shape of x_train = (50000, 32, 32, 3)\n",
            "shape of x_test = (10000, 32, 32, 3)\n",
            "shape of y_train = (50000, 1)\n",
            "shape of y_test = (10000, 1)\n"
          ]
        }
      ]
    },
    {
      "cell_type": "markdown",
      "source": [
        "50000 picture (32 * 32) with 3 channels (r,g,b)"
      ],
      "metadata": {
        "id": "T52bElJ_dCsu"
      }
    },
    {
      "cell_type": "code",
      "source": [
        "num_features = 32 * 32 * 3\n",
        "\n",
        "x_train = x_train.reshape(-1, num_features)\n",
        "x_test = x_test.reshape(-1, num_features)\n",
        "\n",
        "print(f\"scaled x_train shape : {x_train.shape}\")\n",
        "print(f\"scaled x_test shape: {x_test.shape}\")"
      ],
      "metadata": {
        "colab": {
          "base_uri": "https://localhost:8080/"
        },
        "id": "K161K7-LbQm8",
        "outputId": "f8cd0602-156b-4665-9254-02cc0c49981b"
      },
      "execution_count": null,
      "outputs": [
        {
          "output_type": "stream",
          "name": "stdout",
          "text": [
            "scaled x_train shapes : (50000, 3072)\n",
            "scaled x_test shapes: (10000, 3072)\n"
          ]
        }
      ]
    },
    {
      "cell_type": "markdown",
      "source": [
        "Creating the model"
      ],
      "metadata": {
        "id": "ShRHdeEshn-F"
      }
    },
    {
      "cell_type": "code",
      "source": [
        "model = tf.keras.models.Sequential([\n",
        "    tf.keras.layers.Dense(units = 10 ,input_shape = (num_features,), activation = \"softmax\")\n",
        "])"
      ],
      "metadata": {
        "id": "9cIUL6q9dtFM"
      },
      "execution_count": null,
      "outputs": []
    },
    {
      "cell_type": "code",
      "source": [
        "model.summary()"
      ],
      "metadata": {
        "colab": {
          "base_uri": "https://localhost:8080/"
        },
        "id": "FJMIaBw8iHev",
        "outputId": "45288a8f-4dd5-449b-8445-a7ca1b6f9e89"
      },
      "execution_count": null,
      "outputs": [
        {
          "output_type": "stream",
          "name": "stdout",
          "text": [
            "Model: \"sequential\"\n",
            "_________________________________________________________________\n",
            " Layer (type)                Output Shape              Param #   \n",
            "=================================================================\n",
            " dense (Dense)               (None, 10)                30730     \n",
            "                                                                 \n",
            "=================================================================\n",
            "Total params: 30,730\n",
            "Trainable params: 30,730\n",
            "Non-trainable params: 0\n",
            "_________________________________________________________________\n"
          ]
        }
      ]
    },
    {
      "cell_type": "code",
      "source": [
        "loss_fn = tf.keras.losses.SparseCategoricalCrossentropy(from_logits=True)"
      ],
      "metadata": {
        "id": "rUx8niLFiRNO"
      },
      "execution_count": null,
      "outputs": []
    },
    {
      "cell_type": "code",
      "source": [
        "y_pred = model(x_train[:1]).numpy()\n",
        "loss = loss_fn(y_train[0], y_pred).numpy()\n",
        "loss"
      ],
      "metadata": {
        "colab": {
          "base_uri": "https://localhost:8080/"
        },
        "id": "eox_Ln-8i3BO",
        "outputId": "bb9cd447-7535-4623-b0a9-38fc45905e6c"
      },
      "execution_count": null,
      "outputs": [
        {
          "output_type": "execute_result",
          "data": {
            "text/plain": [
              "2.2958114"
            ]
          },
          "metadata": {},
          "execution_count": 14
        }
      ]
    },
    {
      "cell_type": "markdown",
      "source": [
        "Compiling and fitting the model"
      ],
      "metadata": {
        "id": "EwcolnB0jUbe"
      }
    },
    {
      "cell_type": "code",
      "source": [
        "\n",
        "model.compile(\n",
        "    optimizer = \"sgd\", # gradient \n",
        "    loss = loss_fn,\n",
        "    metrics = [\"accuracy\"]\n",
        ")"
      ],
      "metadata": {
        "id": "XRxeHWr4jLje"
      },
      "execution_count": null,
      "outputs": []
    },
    {
      "cell_type": "code",
      "source": [
        "history = model.fit(\n",
        "    x_train,\n",
        "    y_train,\n",
        "    epochs = 10,\n",
        "    shuffle = True\n",
        ")"
      ],
      "metadata": {
        "colab": {
          "base_uri": "https://localhost:8080/"
        },
        "id": "O9Y8E-QajsIG",
        "outputId": "94f08c6e-a59a-4c76-cc59-641ce816878a"
      },
      "execution_count": null,
      "outputs": [
        {
          "output_type": "stream",
          "name": "stdout",
          "text": [
            "Epoch 1/10\n"
          ]
        },
        {
          "output_type": "stream",
          "name": "stderr",
          "text": [
            "/usr/local/lib/python3.7/dist-packages/tensorflow/python/util/dispatch.py:1082: UserWarning: \"`sparse_categorical_crossentropy` received `from_logits=True`, but the `output` argument was produced by a sigmoid or softmax activation and thus does not represent logits. Was this intended?\"\n",
            "  return dispatch_target(*args, **kwargs)\n"
          ]
        },
        {
          "output_type": "stream",
          "name": "stdout",
          "text": [
            "1563/1563 [==============================] - 4s 2ms/step - loss: 1.9487 - accuracy: 0.3024\n",
            "Epoch 2/10\n",
            "1563/1563 [==============================] - 4s 2ms/step - loss: 1.8449 - accuracy: 0.3505\n",
            "Epoch 3/10\n",
            "1563/1563 [==============================] - 4s 2ms/step - loss: 1.8146 - accuracy: 0.3661\n",
            "Epoch 4/10\n",
            "1563/1563 [==============================] - 4s 2ms/step - loss: 1.7966 - accuracy: 0.3726\n",
            "Epoch 5/10\n",
            "1563/1563 [==============================] - 4s 2ms/step - loss: 1.7841 - accuracy: 0.3786\n",
            "Epoch 6/10\n",
            "1563/1563 [==============================] - 4s 2ms/step - loss: 1.7736 - accuracy: 0.3837\n",
            "Epoch 7/10\n",
            "1563/1563 [==============================] - 4s 2ms/step - loss: 1.7642 - accuracy: 0.3876\n",
            "Epoch 8/10\n",
            "1563/1563 [==============================] - 4s 2ms/step - loss: 1.7565 - accuracy: 0.3906\n",
            "Epoch 9/10\n",
            "1563/1563 [==============================] - 4s 3ms/step - loss: 1.7519 - accuracy: 0.3913\n",
            "Epoch 10/10\n",
            "1563/1563 [==============================] - 4s 2ms/step - loss: 1.7484 - accuracy: 0.3923\n"
          ]
        }
      ]
    },
    {
      "cell_type": "code",
      "source": [
        "plt.figure(figsize=(10,5))\n",
        "plt.plot(history.history[\"loss\"], label = \"loss\")\n",
        "plt.grid()\n",
        "plt.legend()\n",
        "plt.title(\"Single_layer\")\n",
        "plt.xlabel(\"epoches\")\n",
        "plt.ylabel(\"loss\")\n",
        "plt.show()"
      ],
      "metadata": {
        "colab": {
          "base_uri": "https://localhost:8080/",
          "height": 350
        },
        "id": "FTV_Gd6qkFaW",
        "outputId": "d0c22bf8-7f20-4692-c4c7-498a9f015d77"
      },
      "execution_count": null,
      "outputs": [
        {
          "output_type": "display_data",
          "data": {
            "text/plain": [
              "<Figure size 720x360 with 1 Axes>"
            ],
            "image/png": "[encoded data removed]"
          },
          "metadata": {
            "needs_background": "light"
          }
        }
      ]
    },
    {
      "cell_type": "code",
      "source": [
        "plt.figure(figsize=(10,5))\n",
        "plt.plot(history.history[\"accuracy\"], label = \"accuracy\", color = \"orange\")\n",
        "plt.grid()\n",
        "plt.legend()\n",
        "plt.title(\"Single_layer\")\n",
        "plt.xlabel(\"epoches\")\n",
        "plt.ylabel(\"accuracy\")\n",
        "plt.show()"
      ],
      "metadata": {
        "colab": {
          "base_uri": "https://localhost:8080/",
          "height": 350
        },
        "id": "IM0v4zTRl7h_",
        "outputId": "4f29b367-33b2-4f04-cfef-842fe4987bb6"
      },
      "execution_count": null,
      "outputs": [
        {
          "output_type": "display_data",
          "data": {
            "text/plain": [
              "<Figure size 720x360 with 1 Axes>"
            ],
            "image/png": "[encoded data removed]"
          },
          "metadata": {
            "needs_background": "light"
          }
        }
      ]
    },
    {
      "cell_type": "code",
      "source": [
        "model.evaluate(x_test, y_test, verbose = 2)"
      ],
      "metadata": {
        "colab": {
          "base_uri": "https://localhost:8080/"
        },
        "id": "tnm6nG_amp_6",
        "outputId": "69136bad-3fbf-44aa-949f-b63785957a29"
      },
      "execution_count": null,
      "outputs": [
        {
          "output_type": "stream",
          "name": "stdout",
          "text": [
            "313/313 - 0s - loss: 1.7787 - accuracy: 0.3748 - 452ms/epoch - 1ms/step\n"
          ]
        },
        {
          "output_type": "execute_result",
          "data": {
            "text/plain": [
              "[1.7786818742752075, 0.3747999966144562]"
            ]
          },
          "metadata": {},
          "execution_count": 30
        }
      ]
    },
    {
      "cell_type": "markdown",
      "source": [
        "Saving the model"
      ],
      "metadata": {
        "id": "qE0G3QXHvdN5"
      }
    },
    {
      "cell_type": "code",
      "source": [
        "model.save(\"single_layer.h5\")"
      ],
      "metadata": {
        "id": "wBly0_1Jn9KH"
      },
      "execution_count": null,
      "outputs": []
    }
  ]
}